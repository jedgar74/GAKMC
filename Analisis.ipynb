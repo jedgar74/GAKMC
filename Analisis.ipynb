{
 "cells": [
  {
   "cell_type": "code",
   "execution_count": 1,
   "metadata": {},
   "outputs": [
    {
     "name": "stdout",
     "output_type": "stream",
     "text": [
      "-------analisis--------- \n",
      "----------------  2020-10-26 2020-11-01\n",
      "\n",
      "----------------  Bani Nelly\n",
      "\n",
      "------ Forecast ----- \n",
      "\n",
      "----------------  Bavaro Nelly\n",
      "\n",
      "------ Forecast ----- \n",
      "\n",
      "----------------  Independencia Nelly\n",
      "\n",
      "------ Forecast ----- \n",
      "\n",
      "----------------  MegaCentro Nelly\n",
      "\n",
      "------ Forecast ----- \n",
      "\n",
      "----------------  Puerto Plata Nelly\n",
      "\n",
      "------ Forecast ----- \n",
      "\n",
      "----------------  San Vicente de Paul Nelly\n",
      "\n",
      "------ Forecast ----- \n",
      "\n",
      "----------------  Santiago Nelly\n",
      "\n",
      "------ Forecast ----- \n",
      "\n",
      "----------------  Aila Nelly\n",
      "\n",
      "------ Forecast ----- \n",
      "------ Forecast ------  ('', 0)\n",
      "------ Forecast ------  ('Compacto', 1)\n",
      "------ Forecast ------  ('Compacto SUV', 13)\n",
      "------ Forecast ------  ('Fullsize SUV', 2)\n",
      "------ Forecast ------  ('Intermedio', 6)\n",
      "------ Forecast ------  ('Panel VAN', 1)\n",
      "------ Forecast ------  ('PickUp', 11)\n",
      "------ Forecast ------  ('SUV', 15)\n",
      "------ Forecast ------  ('VAN', 1)\n",
      "\n",
      "----------------  Remarketing Nelly\n",
      "\n",
      "------ Forecast ----- \n",
      "\n",
      "----------------  Bani Nelly\n",
      "\n",
      "-------- Data ------- \n",
      "\n",
      "----------------  Bavaro Nelly\n",
      "\n",
      "-------- Data ------- \n",
      "\n",
      "----------------  Independencia Nelly\n",
      "\n",
      "-------- Data ------- \n",
      "-------- Data -------  ('PickUp', 20, 6, 3.571)\n",
      "-------- Data -------  ('Compacto SUV', 16, 4, 2.143)\n",
      "-------- Data -------  ('Fullsize SUV', 2, 1, 0.286)\n",
      "-------- Data -------  ('Intermedio', 5, 4, 3.429)\n",
      "-------- Data -------  ('VAN', 2, 1, 0.143)\n",
      "-------- Data -------  ('Panel VAN', 1, 0, 0.0)\n",
      "-------- Data -------  ('SUV', 9, 1, 0.714)\n",
      "\n",
      "----------------  MegaCentro Nelly\n",
      "\n",
      "-------- Data ------- \n",
      "-------- Data -------  ('Intermedio', 4, 0, 0.0)\n",
      "-------- Data -------  ('Compacto SUV', 1, 0, 0.0)\n",
      "-------- Data -------  ('SUV', 1, 0, 0.0)\n"
     ]
    },
    {
     "ename": "IndexError",
     "evalue": "list index out of range",
     "output_type": "error",
     "traceback": [
      "\u001b[0;31m---------------------------------------------------------------------------\u001b[0m",
      "\u001b[0;31mIndexError\u001b[0m                                Traceback (most recent call last)",
      "\u001b[0;32m<ipython-input-1-93040400ed3f>\u001b[0m in \u001b[0;36m<module>\u001b[0;34m\u001b[0m\n\u001b[1;32m      3\u001b[0m \u001b[0manalisis\u001b[0m \u001b[0;34m=\u001b[0m \u001b[0mAnalisis\u001b[0m\u001b[0;34m(\u001b[0m\u001b[0;34m)\u001b[0m\u001b[0;34m\u001b[0m\u001b[0;34m\u001b[0m\u001b[0m\n\u001b[1;32m      4\u001b[0m \u001b[0manalisis\u001b[0m\u001b[0;34m.\u001b[0m\u001b[0msetCompCase\u001b[0m\u001b[0;34m(\u001b[0m\u001b[0;34m[\u001b[0m\u001b[0;34m\"Nelly\"\u001b[0m\u001b[0;34m]\u001b[0m\u001b[0;34m)\u001b[0m\u001b[0;34m\u001b[0m\u001b[0;34m\u001b[0m\u001b[0m\n\u001b[0;32m----> 5\u001b[0;31m \u001b[0manalisis\u001b[0m\u001b[0;34m.\u001b[0m\u001b[0mrun\u001b[0m\u001b[0;34m(\u001b[0m\u001b[0;34m)\u001b[0m\u001b[0;34m\u001b[0m\u001b[0;34m\u001b[0m\u001b[0m\n\u001b[0m",
      "\u001b[0;32m~/Descargas/km100/GAKMCv2/Analisis.py\u001b[0m in \u001b[0;36mrun\u001b[0;34m(self, forecast)\u001b[0m\n\u001b[1;32m    359\u001b[0m         \u001b[0;31m# print(\"---------------- \", self.parameters[\"stations\"], self.companies)\u001b[0m\u001b[0;34m\u001b[0m\u001b[0;34m\u001b[0m\u001b[0;34m\u001b[0m\u001b[0m\n\u001b[1;32m    360\u001b[0m \u001b[0;34m\u001b[0m\u001b[0m\n\u001b[0;32m--> 361\u001b[0;31m         \u001b[0mself\u001b[0m\u001b[0;34m.\u001b[0m\u001b[0manalisis\u001b[0m\u001b[0;34m(\u001b[0m\u001b[0;34m)\u001b[0m\u001b[0;34m\u001b[0m\u001b[0;34m\u001b[0m\u001b[0m\n\u001b[0m\u001b[1;32m    362\u001b[0m \u001b[0;34m\u001b[0m\u001b[0m\n\u001b[1;32m    363\u001b[0m         \u001b[0;32mpass\u001b[0m\u001b[0;34m\u001b[0m\u001b[0;34m\u001b[0m\u001b[0m\n",
      "\u001b[0;32m~/Descargas/km100/GAKMCv2/Analisis.py\u001b[0m in \u001b[0;36manalisis\u001b[0;34m(self, forecast)\u001b[0m\n\u001b[1;32m    270\u001b[0m \u001b[0;34m\u001b[0m\u001b[0m\n\u001b[1;32m    271\u001b[0m                     \u001b[0;32mif\u001b[0m \u001b[0mdelta\u001b[0m \u001b[0;34m:\u001b[0m\u001b[0;34m\u001b[0m\u001b[0;34m\u001b[0m\u001b[0m\n\u001b[0;32m--> 272\u001b[0;31m                          \u001b[0mdta\u001b[0m\u001b[0;34m[\u001b[0m\u001b[0mk\u001b[0m\u001b[0;34m]\u001b[0m\u001b[0;34m.\u001b[0m\u001b[0mappend\u001b[0m\u001b[0;34m(\u001b[0m\u001b[0;34m[\u001b[0m \u001b[0mdts\u001b[0m\u001b[0;34m[\u001b[0m\u001b[0;36m0\u001b[0m\u001b[0;34m]\u001b[0m\u001b[0;34m,\u001b[0m \u001b[0;34m-\u001b[0m\u001b[0;36m1\u001b[0m\u001b[0;34m,\u001b[0m \u001b[0;34m[\u001b[0m\u001b[0mdts\u001b[0m\u001b[0;34m[\u001b[0m\u001b[0;36m1\u001b[0m\u001b[0;34m]\u001b[0m\u001b[0;34m,\u001b[0m \u001b[0mdts\u001b[0m\u001b[0;34m[\u001b[0m\u001b[0;36m2\u001b[0m\u001b[0;34m]\u001b[0m\u001b[0;34m,\u001b[0m \u001b[0mdts\u001b[0m\u001b[0;34m[\u001b[0m\u001b[0;36m3\u001b[0m\u001b[0;34m]\u001b[0m\u001b[0;34m]\u001b[0m \u001b[0;34m]\u001b[0m\u001b[0;34m)\u001b[0m\u001b[0;34m\u001b[0m\u001b[0;34m\u001b[0m\u001b[0m\n\u001b[0m\u001b[1;32m    273\u001b[0m \u001b[0;34m\u001b[0m\u001b[0m\n\u001b[1;32m    274\u001b[0m             \u001b[0;31m# realizar la comparativa\u001b[0m\u001b[0;34m\u001b[0m\u001b[0;34m\u001b[0m\u001b[0;34m\u001b[0m\u001b[0m\n",
      "\u001b[0;31mIndexError\u001b[0m: list index out of range"
     ]
    }
   ],
   "source": [
    "from Analisis import *\n",
    "\n",
    "analisis = Analisis() \n",
    "analisis.setCompCase([\"Nelly\"])\n",
    "analisis.run()  "
   ]
  },
  {
   "cell_type": "code",
   "execution_count": null,
   "metadata": {},
   "outputs": [],
   "source": []
  },
  {
   "cell_type": "code",
   "execution_count": null,
   "metadata": {},
   "outputs": [],
   "source": []
  },
  {
   "cell_type": "code",
   "execution_count": null,
   "metadata": {},
   "outputs": [],
   "source": []
  },
  {
   "cell_type": "code",
   "execution_count": null,
   "metadata": {},
   "outputs": [],
   "source": []
  },
  {
   "cell_type": "code",
   "execution_count": null,
   "metadata": {},
   "outputs": [],
   "source": []
  },
  {
   "cell_type": "code",
   "execution_count": null,
   "metadata": {},
   "outputs": [],
   "source": []
  }
 ],
 "metadata": {
  "kernelspec": {
   "display_name": "Python 3",
   "language": "python",
   "name": "python3"
  },
  "language_info": {
   "codemirror_mode": {
    "name": "ipython",
    "version": 3
   },
   "file_extension": ".py",
   "mimetype": "text/x-python",
   "name": "python",
   "nbconvert_exporter": "python",
   "pygments_lexer": "ipython3",
   "version": "3.7.7"
  }
 },
 "nbformat": 4,
 "nbformat_minor": 4
}
